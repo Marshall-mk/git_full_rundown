{
 "cells": [
  {
   "cell_type": "markdown",
   "metadata": {},
   "source": [
    "# What is Git? \n",
    "### Git is a distributed version control system.This basically means:\n",
    "\n",
    "#### It's a system that records changes to our files over time.\n",
    "#### We can recall specific versions of those files at any given time.\n",
    "#### Many people can easily collaborate ona project and have their own version of project files on their computer.\n"
   ]
  },
  {
   "cell_type": "markdown",
   "metadata": {},
   "source": [
    "# And what is and Github?\n",
    "#### Github is an online service that hosts our projects,\n",
    "#### It allows us to share our code with other developers. \n",
    "#### Developers can download the projects and work on them.\n",
    "#### They can re-upload their edits and merge them with the main codebase."
   ]
  },
  {
   "cell_type": "markdown",
   "metadata": {},
   "source": [
    "# To check git version installed.\n",
    "git --version"
   ]
  },
  {
   "cell_type": "markdown",
   "metadata": {},
   "source": [
    "# To add git username and email\n",
    "git config --global user.name #then the username\n",
    "\n",
    "git config --global user.email #then the email\n"
   ]
  },
  {
   "cell_type": "markdown",
   "metadata": {},
   "source": [
    "# To chech which username and email are registered\n",
    "git config user.name\n",
    "\n",
    "git config user.email\n",
    "\n",
    "\n",
    "# To create empty text files using cmd\n",
    "echo. > filename.file_extension"
   ]
  },
  {
   "cell_type": "markdown",
   "metadata": {},
   "source": [
    "# Repositries or Repos\n",
    "Are containers for a projectyou want to track with Git.\n",
    "\n",
    "You can have many different repos for many differnt projects on your computer.\n",
    "\n",
    "A repo is essentially a project folder which git tracks the content for us.\n",
    "\n",
    "# Creating a repo\n",
    "Navigate to the desired root directory in cmd and type;\n",
    "\n",
    "git init"
   ]
  },
  {
   "cell_type": "markdown",
   "metadata": {},
   "source": [
    "# Staging files\n",
    "### To show which files have been commited and which ones are in the staging area.\n",
    "git status \n",
    "### If you want to add files to the staging area:\n",
    "git add name_of file\n",
    "\n",
    "### If you want to remove files from the staging area:\n",
    "git rm --cached name_of_file\n",
    "\n",
    "### If you want to add all files in the repo to the staging area:\n",
    "git add .\n",
    "\n"
   ]
  },
  {
   "cell_type": "markdown",
   "metadata": {},
   "source": [
    "# Making commits\n",
    "git commit -m \"discriptive message(what changed)\" \n",
    "\n",
    "\n",
    "# Tracking commits (commit history)\n",
    "### To show a log of each of the different commits\n",
    "git log\n",
    "\n",
    "### To show all the logs in online(like a summary)\n",
    "git log --oneline"
   ]
  },
  {
   "cell_type": "markdown",
   "metadata": {},
   "source": [
    "# Undoing stuffs when things go wrong(going back to earlier commits\n",
    "\n",
    "### Checkout commit\n",
    "#### Shows the code at that point in time, no alterations\n",
    "git checkout uniqueId_from log\n",
    "##### To go back when done;\n",
    "git checkout master\n",
    "\n",
    "### Revert commit\n",
    "#### Undos a particular commit, its reverts any changes that was done in that commit. we still have access to that commit.\n",
    "git revert uniqueId_from log\n",
    "##### To go back when done;\n",
    ":wq\n",
    "\n",
    "### Reset commit\n",
    "#### Takes you back in time to a particular commit and permanently deletes other commits\n",
    "git reset uniqueId_from log\n",
    "### OR\n",
    "git reset uniqueId_from log --hard #this wouldnt retain any changes made after that commit"
   ]
  },
  {
   "cell_type": "markdown",
   "metadata": {},
   "source": [
    "# Branches\n",
    "#### Trying new features on other branches before merging with the master branch\n",
    "git branch name_of_branch\n",
    "\n",
    "#### To check available branches\n",
    "git branch -a\n",
    "\n",
    "#### To be on a particular branch\n",
    "git checkout name_of_branch\n",
    "\n",
    "#### To delete a particular branch, first move out of the branch and \n",
    "git branch -d name_of_branch #if you've merged the branch before\n",
    "\n",
    "git branch -D name_of_branch #if you haven't \n",
    "\n",
    "\n",
    "#### Working on two branches at the same time\n",
    "git checkout -b name_of_branch #creates a new branch and checks it out\n"
   ]
  },
  {
   "cell_type": "markdown",
   "metadata": {},
   "source": [
    "# Merging branches and dealing with conflicts\n",
    "## First you have to be on the branch you want to merge into.\n",
    "\n",
    "git merge name_of_branch #the branch you want to merge with the one you are currently on.'\n",
    "\n",
    "If for some reason there is a conflict in the files from both branches, then you should edit the file in the master branch and commit it.\n"
   ]
  },
  {
   "cell_type": "markdown",
   "metadata": {},
   "source": [
    "# Introduction to github\n",
    "## Github is a service that lets us set up hosted repositories\n",
    "## It is a central online repository which multiple team-members could access"
   ]
  },
  {
   "cell_type": "markdown",
   "metadata": {},
   "source": [
    "## Assuming we have a local repo already.\n",
    "##### First create a repo with prolly the same name as the one locally created. It will have a particular link when created, that link can be given an alias for the sake of simplicity using:\n",
    "\n",
    "git remote add alais_you_want link\n",
    "\n",
    "##### To push code from our local repo to github, we first check if there is nothing left to commit (using git status) then we push using:\n",
    "\n",
    "git push the_link_or_alias the_branch_we_want\n",
    "\n",
    "\n",
    "##### To push changes, you simply edit the files,commit locally and push.simple!\n"
   ]
  },
  {
   "cell_type": "markdown",
   "metadata": {},
   "source": [
    "## Assuming we do not have a local repo yet.\n",
    "##### First we create a repo on github and clone it to our computer using the link(in the desired folder).i.e:\n",
    "\n",
    "git clone link\n",
    "\n",
    "###### Then we move into the project folder and make commits! and guess what? We do not need to add an alias this time.simply\n",
    "git push origin master_or_any_other_branch\n"
   ]
  },
  {
   "cell_type": "markdown",
   "metadata": {},
   "source": [
    "# Colaborating on github\n",
    "### To make you have the latest version of the project,(when collaborators have uploaded new codes) you type\n",
    "git pull origin/link master \n",
    "\n",
    "### on your local machine(in the repo)\n",
    "\n",
    "## When working on a new feature, always checkout to a new branch. Work on the new feature, commit it and push the branch to the remote repo. There you can decide to merge to the master branch using the pull request.\n"
   ]
  },
  {
   "cell_type": "markdown",
   "metadata": {},
   "source": [
    "# Forking (contributing to open source projects)\n",
    "\n"
   ]
  },
  {
   "cell_type": "markdown",
   "metadata": {},
   "source": [
    "#### Fork the repo to your github,clone to your machine,work on it,commit to the forked repo, open a pull request from the forked repo and wait ! "
   ]
  },
  {
   "cell_type": "code",
   "execution_count": null,
   "metadata": {},
   "outputs": [],
   "source": []
  }
 ],
 "metadata": {
  "kernelspec": {
   "display_name": "Python 3",
   "language": "python",
   "name": "python3"
  },
  "language_info": {
   "codemirror_mode": {
    "name": "ipython",
    "version": 3
   },
   "file_extension": ".py",
   "mimetype": "text/x-python",
   "name": "python",
   "nbconvert_exporter": "python",
   "pygments_lexer": "ipython3",
   "version": "3.7.3"
  }
 },
 "nbformat": 4,
 "nbformat_minor": 4
}
